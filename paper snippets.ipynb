{
 "cells": [
  {
   "cell_type": "markdown",
   "id": "91521e6e",
   "metadata": {},
   "source": [
    "# iterative optimization\n",
    "\n",
    "we start with the seed reaction coordinate $r_0(k \\Delta t)$, that satisfies the given boundary conditions $r_0(k \\Delta t) = 0 \\text{ if } X(k \\Delta t) \\in A, \\, 1 \\text{ if } X(k \\Delta t) \\in B, \\, \\frac{1}{2} \\text{ otherwise.}$ At every iteration (m) we randomly select a new collective variable $v_m$ and update the RC as $r_{m}(k \\Delta t)=r_{m-1}(k \\Delta t)+\\delta_r(r_{m-1}(k \\Delta t),v_m(k \\Delta t))$, where $\\delta_r$ is a variation of the reaction coordinate, represented by a low dimensional polynomial, multiplied by an indicator function so that $\\delta r(k\\Delta t)=0 if X(k\\Delta t) \\in A or B$ time-series equals zero at boundary states, so that $r_{m+1}$ satisfies boundary conditions. The optimal variation is found by analytically optimizing the coefficients of the polynomial, that provide minimum to the functional $\\sum_k [r_m(k\\Delta t+\\Delta t)-r_m(k\\Delta t)]^2$"
   ]
  },
  {
   "cell_type": "markdown",
   "id": "1b1b0ce8",
   "metadata": {},
   "source": [
    "$r_0(t) = 0 \\text{ if } X(t) \\in A, \\, 1 \\text{ if } X(t) \\in B, \\, \\frac{1}{2} \\text{ otherwise.}$\n"
   ]
  },
  {
   "cell_type": "markdown",
   "id": "7df83524",
   "metadata": {},
   "source": [
    "motivation: markov chain of higher order or time-delaied embeding. which can be used to recontsruct the toplogy of time series."
   ]
  },
  {
   "cell_type": "markdown",
   "id": "0c2e6247",
   "metadata": {},
   "source": [
    "$\\sum_{ij}n_{ij}(r_m(i)-r_{m+1}(j))^2$\n",
    "\n",
    "$\\sum_{i}-2n_{ij}(r_m(i)-r_{m+1}(j))=0$\n",
    "\n",
    "$\\sum_{i}P_{ij}(r_m(i)-r_{m+1}(j))=0$\n"
   ]
  },
  {
   "cell_type": "code",
   "execution_count": null,
   "id": "1a7e903b",
   "metadata": {},
   "outputs": [],
   "source": []
  }
 ],
 "metadata": {
  "kernelspec": {
   "display_name": "Python 3 (ipykernel)",
   "language": "python",
   "name": "python3"
  },
  "language_info": {
   "codemirror_mode": {
    "name": "ipython",
    "version": 3
   },
   "file_extension": ".py",
   "mimetype": "text/x-python",
   "name": "python",
   "nbconvert_exporter": "python",
   "pygments_lexer": "ipython3",
   "version": "3.9.13"
  },
  "varInspector": {
   "cols": {
    "lenName": 16,
    "lenType": 16,
    "lenVar": 40
   },
   "kernels_config": {
    "python": {
     "delete_cmd_postfix": "",
     "delete_cmd_prefix": "del ",
     "library": "var_list.py",
     "varRefreshCmd": "print(var_dic_list())"
    },
    "r": {
     "delete_cmd_postfix": ") ",
     "delete_cmd_prefix": "rm(",
     "library": "var_list.r",
     "varRefreshCmd": "cat(var_dic_list()) "
    }
   },
   "types_to_exclude": [
    "module",
    "function",
    "builtin_function_or_method",
    "instance",
    "_Feature"
   ],
   "window_display": false
  }
 },
 "nbformat": 4,
 "nbformat_minor": 5
}
