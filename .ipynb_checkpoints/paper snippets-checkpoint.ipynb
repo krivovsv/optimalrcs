{
 "cells": [
  {
   "cell_type": "markdown",
   "id": "055a9958",
   "metadata": {},
   "source": [
    "# iterative optimization\n",
    "\n",
    "we start with the seed reaction coordinate r_0(t), that satisfies the given boundary conditions $r_0(t)=0/1 \\if X(t) \\in A/B$ and $1/2$ otherwise. At every iteration (m) we randomly select a new collective variable $cv_m$ and update the RC as $r_{m}(t)=r_{m-1}(t)+\\delta_r(r_{m-1}(t),v_m(t))$, where $\\delta_r$ is a variation of the reaction coordinate, represented by a low dimensional polynomial. $\\delta r$ time-series equals zero at boundary states, so that $r_{m+1}$ satisfies boundary conditions. The optimal variation is found by analytically optimizing the caefficients of the polynomial, that provide minimum to the functional $\\sum_t [r_m(t+\\Delta t)-r_m(t)]^2$"
   ]
  },
  {
   "cell_type": "code",
   "execution_count": null,
   "id": "0e3520ed",
   "metadata": {},
   "outputs": [],
   "source": []
  }
 ],
 "metadata": {
  "kernelspec": {
   "display_name": "Python 3 (ipykernel)",
   "language": "python",
   "name": "python3"
  },
  "language_info": {
   "codemirror_mode": {
    "name": "ipython",
    "version": 3
   },
   "file_extension": ".py",
   "mimetype": "text/x-python",
   "name": "python",
   "nbconvert_exporter": "python",
   "pygments_lexer": "ipython3",
   "version": "3.9.13"
  },
  "varInspector": {
   "cols": {
    "lenName": 16,
    "lenType": 16,
    "lenVar": 40
   },
   "kernels_config": {
    "python": {
     "delete_cmd_postfix": "",
     "delete_cmd_prefix": "del ",
     "library": "var_list.py",
     "varRefreshCmd": "print(var_dic_list())"
    },
    "r": {
     "delete_cmd_postfix": ") ",
     "delete_cmd_prefix": "rm(",
     "library": "var_list.r",
     "varRefreshCmd": "cat(var_dic_list()) "
    }
   },
   "types_to_exclude": [
    "module",
    "function",
    "builtin_function_or_method",
    "instance",
    "_Feature"
   ],
   "window_display": false
  }
 },
 "nbformat": 4,
 "nbformat_minor": 5
}
